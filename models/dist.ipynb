{
 "cells": [
  {
   "cell_type": "code",
   "execution_count": 2,
   "metadata": {},
   "outputs": [],
   "source": [
    "import numpy as np\n",
    "from scipy import stats\n",
    "import matplotlib.pyplot as plt\n",
    "import powerlaw\n",
    "from scipy.optimize import minimize\n",
    "import plotly.graph_objects as go\n",
    "import pandas as pd"
   ]
  },
  {
   "cell_type": "code",
   "execution_count": 6,
   "metadata": {},
   "outputs": [],
   "source": [
    "lambda_param = 1.3\n",
    "n = 1000 \n",
    "data_exponencial = np.random.exponential(1/lambda_param, n)"
   ]
  },
  {
   "cell_type": "code",
   "execution_count": 7,
   "metadata": {},
   "outputs": [],
   "source": [
    "mu = 0  # média\n",
    "sigma = 1  # desvio padrão\n",
    "data_normal = np.random.normal(mu, sigma, n)"
   ]
  },
  {
   "cell_type": "code",
   "execution_count": 8,
   "metadata": {},
   "outputs": [],
   "source": [
    "mu_lognorm = 0  # média do logaritmo\n",
    "sigma_lognorm = 1  # desvio padrão do logaritmo\n",
    "data_lognormal = np.random.lognormal(mu_lognorm, sigma_lognorm, n)"
   ]
  },
  {
   "cell_type": "code",
   "execution_count": 13,
   "metadata": {},
   "outputs": [],
   "source": [
    "def generate_power_law(alpha, xmin, size):\n",
    "    r = np.random.uniform(0, 1, size)  # Gera números uniformemente distribuídos\n",
    "    return xmin * (1 - r) ** (-1 / (alpha - 1))\n",
    "\n",
    "alpha_powerlaw = 2.5\n",
    "xmin = 1.0\n",
    "data_powerlaw = generate_power_law(alpha_powerlaw, xmin, n)\n",
    "\n",
    "# data_powerlaw = powerlaw.find_xmin()\n",
    "# powerlaw.Distribution.generate_random(n=n)\n",
    "# .PowerLaw(xmin=xmin, alpha=alpha_powerlaw).generate_random(n)"
   ]
  },
  {
   "cell_type": "code",
   "execution_count": 10,
   "metadata": {},
   "outputs": [],
   "source": [
    "def generate_double_power_law(alpha1, alpha2, xmin, x_c, size):\n",
    "    size1 = int(size / 2)  # Número de pontos antes de x_c\n",
    "    size2 = size - size1   # Número de pontos depois de x_c\n",
    "    \n",
    "    # Gerar dados na primeira faixa (xmin a x_c)\n",
    "    data1 = generate_power_law(alpha1, xmin, size1)\n",
    "    \n",
    "    # Gerar dados na segunda faixa (x_c em diante)\n",
    "    data2 = generate_power_law(alpha2, x_c, size2)\n",
    "    \n",
    "    return np.concatenate([data1, data2])\n",
    "\n",
    "# Parâmetros da Double Power-Law\n",
    "alpha1 = 2.0\n",
    "alpha2 = 3.0\n",
    "xmin = 1.0\n",
    "x_c = 10.0\n",
    "\n",
    "# Gerar dados Double Power-Law\n",
    "data_double_powerlaw = generate_double_power_law(alpha1, alpha2, xmin, x_c, n)"
   ]
  },
  {
   "cell_type": "code",
   "execution_count": null,
   "metadata": {},
   "outputs": [],
   "source": [
    "def fit_exp(dados):\n",
    "    return 1/np.mean(dados)\n",
    "\n",
    "def fit_norm(dados):\n",
    "    return np.mean(dados), np.std(dados)\n",
    "\n",
    "def fit_lognorm(dados):\n",
    "    log_dados = np.log(dados)\n",
    "    return np.mean(log_dados), np.std(log_dados)\n",
    "\n",
    "def fit_powerlaw(dados):\n",
    "    powerlawfit = powerlaw.Fit(dados)\n",
    "    return powerlawfit.alpha, powerlawfit.xmin\n",
    "\n",
    "    # xmin = np.min(dados) ################################\n",
    "    # alpha_est = 1 + len(dados) / np.sum(np.log(dados / xmin))\n",
    "    # return alpha_est, xmin\n",
    "\n",
    "    # R, p = results.distribution_compare('power_law', 'lognormal')\n",
    "\n",
    "def fit_double_powerlaw(dados):\n",
    "    return Exception('A Ser Implementado')"
   ]
  }
 ],
 "metadata": {
  "kernelspec": {
   "display_name": "Python 3",
   "language": "python",
   "name": "python3"
  },
  "language_info": {
   "codemirror_mode": {
    "name": "ipython",
    "version": 3
   },
   "file_extension": ".py",
   "mimetype": "text/x-python",
   "name": "python",
   "nbconvert_exporter": "python",
   "pygments_lexer": "ipython3",
   "version": "3.9.13"
  }
 },
 "nbformat": 4,
 "nbformat_minor": 2
}
