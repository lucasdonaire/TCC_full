{
 "cells": [
  {
   "cell_type": "code",
   "execution_count": 1,
   "metadata": {},
   "outputs": [
    {
     "name": "stderr",
     "output_type": "stream",
     "text": [
      "C:\\Users\\ldonaire\\AppData\\Roaming\\Python\\Python39\\site-packages\\matplotlib\\projections\\__init__.py:63: UserWarning: Unable to import Axes3D. This may be due to multiple versions of Matplotlib being installed (e.g. as a system package and as a pip package). As a result, the 3D projection is not available.\n",
      "  warnings.warn(\"Unable to import Axes3D. This may be due to multiple versions of \"\n"
     ]
    }
   ],
   "source": [
    "import numpy             as np\n",
    "import matplotlib.pyplot as plt\n",
    "import plotly.graph_objects as go\n",
    "import pandas as pd\n",
    "from scipy import stats\n",
    "import powerlaw"
   ]
  },
  {
   "cell_type": "code",
   "execution_count": 2,
   "metadata": {},
   "outputs": [],
   "source": [
    "import pickle\n",
    "\n",
    "def write_pkl(var,name_file):\n",
    "    with open(f'variables_final\\\\{name_file}.pkl','wb') as arquivo:\n",
    "        pickle.dump(var,arquivo)\n",
    "\n",
    "def read_pkl(name_file):\n",
    "    with open(f'variables_final\\\\{name_file}.pkl','rb') as arquivo:\n",
    "        return pickle.load(arquivo)\n",
    "    \n",
    "def get_code_read_pkl(code_write_pkl):\n",
    "    S = code_write_pkl.split(\"write_pkl(\")[1]\n",
    "    S = S.split(\"'\")\n",
    "    return S[0][:-1] + ' = read_pkl(\"' + S[1] + '\")'"
   ]
  },
  {
   "cell_type": "code",
   "execution_count": 3,
   "metadata": {},
   "outputs": [
    {
     "data": {
      "text/plain": [
       "[<matplotlib.lines.Line2D at 0x1b1d6e0c070>]"
      ]
     },
     "execution_count": 3,
     "metadata": {},
     "output_type": "execute_result"
    },
    {
     "data": {
      "image/png": "[encoded data removed]",
      "text/plain": [
       "<Figure size 640x480 with 1 Axes>"
      ]
     },
     "metadata": {},
     "output_type": "display_data"
    }
   ],
   "source": [
    "phi_min = 0.0 \n",
    "phi_max = 1 \n",
    "beta = 0.5\n",
    "v_half = 7\n",
    "\n",
    "def phi0(V, phi_min=phi_min, phi_max=phi_max, beta=beta, v_half=v_half):\n",
    "    return phi_min + phi_max/(1+np.exp(-beta*(V-v_half)))\n",
    "\n",
    "def phi(V, phi_min=phi_min, phi_max=phi_max, beta=beta, v_half=v_half):\n",
    "    return phi0(V, phi_min, phi_max, beta, v_half) - phi0(0, phi_min, phi_max, beta, v_half)\n",
    "\n",
    "x = np.arange(0,20,0.01)\n",
    "y = phi(x)\n",
    "plt.plot(x,y)"
   ]
  },
  {
   "cell_type": "code",
   "execution_count": 4,
   "metadata": {},
   "outputs": [],
   "source": [
    "def uniform_W(k,N):\n",
    "    W = k * (np.ones((N,N)) - np.eye(N))\n",
    "    return W\n",
    "\n",
    "def erdos_reny_W(k,N,p):\n",
    "    W = k * np.random.binomial(1, p, size=(N, N))\n",
    "    W = W - W*np.eye(N)\n",
    "    return W"
   ]
  },
  {
   "cell_type": "code",
   "execution_count": 5,
   "metadata": {},
   "outputs": [],
   "source": [
    "t_ref       = 0.0   # refractory period in (ms)\n",
    "V_reset     = 0.0   # reset membrane potential in (mV)\n",
    "def run_simulation_full(W, reset_V=True, t_sim=100, alpha=1, phi=phi, Vmax0=15, prints=False, Vmin0=0, V0=[], seed=None):\n",
    "    if not pd.isnull(seed):\n",
    "        np.random.seed(seed)\n",
    "\n",
    "    #initial conditions\n",
    "    phis = []\n",
    "    times = []\n",
    "    Vs = []\n",
    "\n",
    "    N = len(W)\n",
    "    V = np.random.uniform(Vmin0, Vmax0, size=N) \n",
    "\n",
    "    phi_u = np.zeros(N)    #array to store phi values\n",
    "    last_spike = np.zeros(N)   # array to store last time of spike for each neuron\n",
    "\n",
    "    # arrays to store spikes\n",
    "    spk_t = [] # tempo do spike\n",
    "    possible_spike_t = [] # tempo do possivel spike\n",
    "    spk_id = [] # id do neuronio (0 a N-1) que teve o spike\n",
    "    \n",
    "    trun = 0.0 # tempo de simulacao\n",
    "\n",
    "    times.append(trun)\n",
    "    phis.append(phi_u)\n",
    "    Vs.append(V)\n",
    "\n",
    "    while (trun < t_sim):\n",
    "        ALL=all(V<0.001) # sistema morre quando todos potenciais ficam abaixo de um limiar arbitrario. nesse caso, 0.001\n",
    "        if ALL: \n",
    "            return np.array(spk_t), np.array(spk_id), phis, times, Vs, trun, np.array(possible_spike_t)\n",
    "        \n",
    "        # compute phi(T-dt)\n",
    "        phi_u = phi(V)\n",
    "        S = np.sum(phi_u)\n",
    "        if S == 0: \n",
    "            print('S==0')\n",
    "            break\n",
    "\n",
    "        dt = np.random.exponential(scale=1/S) # jogar exponencial de taxa soma(phi)\n",
    "        \n",
    "        V_old = V\n",
    "        V = (V)*np.exp(-alpha*dt)\n",
    "        #compute V(T)\n",
    "        # phi em T\n",
    "        phi_u = phi(V) \n",
    "\n",
    "        # joga uniforme\n",
    "        unif = np.random.uniform(low=0.0, high=S)\n",
    "        S_new = np.sum(phi_u)\n",
    "        trun += dt\n",
    "\n",
    "        times.append(trun)\n",
    "        phis.append(phi_u)\n",
    "        Vs.append(V)\n",
    "\n",
    "        possible_spike_t.append(trun)\n",
    "\n",
    "        if unif<=S_new:\n",
    "            phi_cumsum = np.cumsum(phi_u)\n",
    "            neuron_id = np.where(unif<=phi_cumsum)[0][0] # acha o neuronio tal que a uniforme caiu nele\n",
    "\n",
    "            # checking refractory period\n",
    "            if last_spike[neuron_id]==0 or (trun-last_spike[neuron_id])>=t_ref:\n",
    "\n",
    "                # updating of postsynaptic currents:\n",
    "                V = V+W[neuron_id]\n",
    "                last_spike[neuron_id] = trun\n",
    "                # recording spike time and neuron index:\n",
    "                spk_t.append(trun)\n",
    "                spk_id.append(neuron_id)\n",
    "                if reset_V:\n",
    "                    V[neuron_id] = V_reset # Zera potencial\n",
    "\n",
    "    return np.array(spk_t), np.array(spk_id), phis, times, Vs, trun, np.array(possible_spike_t)\n",
    "\n",
    "\n",
    "\n",
    "\n",
    "def run_simulation(W, reset_V=True, t_sim=100, alpha=1, phi=phi, Vmax0=15, prints=False, Vmin0=0, V0=[], seed=None):\n",
    "    if not pd.isnull(seed):\n",
    "        np.random.seed(seed)\n",
    "\n",
    "    N = len(W)\n",
    "    V = np.random.uniform(Vmin0, Vmax0, size=N) \n",
    "    phi_u = np.zeros(N)    #array to store phi values\n",
    "    last_spike = np.zeros(N)   # array to store last time of spike for each neuron\n",
    "    trun = 0.0 # tempo de simulacao\n",
    "    nspikes = 0\n",
    "    while (trun < t_sim):\n",
    "        ALL=all(V<0.001) # sistema morre quando todos potenciais ficam abaixo de um limiar arbitrario. nesse caso, 0.001\n",
    "        if ALL: \n",
    "            return nspikes, trun\n",
    "\n",
    "        phi_u = phi(V)\n",
    "        S = np.sum(phi_u)\n",
    "        if S == 0: \n",
    "            print('S==0')\n",
    "            break\n",
    "        \n",
    "        dt = np.random.exponential(scale=1/S) # jogar exponencial de taxa soma(phi)\n",
    "        V = (V)*np.exp(-alpha*dt)\n",
    "        phi_u = phi(V) \n",
    "        unif = np.random.uniform(low=0.0, high=S)\n",
    "        S_new = np.sum(phi_u)\n",
    "        trun += dt\n",
    "\n",
    "        if unif<=S_new:\n",
    "            phi_cumsum = np.cumsum(phi_u)\n",
    "            neuron_id = np.where(unif<=phi_cumsum)[0][0] # acha o neuronio tal que a uniforme caiu nele\n",
    "            V = V+W[neuron_id]\n",
    "            last_spike[neuron_id] = trun\n",
    "            nspikes +=1\n",
    "            if reset_V:\n",
    "                V[neuron_id] = V_reset # Zera potencial\n",
    "\n",
    "    return nspikes, trun"
   ]
  },
  {
   "cell_type": "code",
   "execution_count": 6,
   "metadata": {},
   "outputs": [],
   "source": [
    "def fit_exp(dados):\n",
    "    loc, LambdaInv = stats.expon.fit(dados,floc=0)\n",
    "    return 1/LambdaInv\n",
    "def test_exp(dados):\n",
    "    Lambda = fit_exp(dados)\n",
    "    statistic, p_value = stats.kstest(dados, 'expon', args=(0, 1/Lambda))\n",
    "    return p_value\n",
    "\n",
    "\n",
    "def fit_norm(dados):\n",
    "    return stats.norm.fit(dados)\n",
    "def test_norm(dados):\n",
    "    mean, std = fit_norm(dados)\n",
    "    statistic, p_value = stats.kstest(dados, 'norm', args=(mean, std))\n",
    "    return p_value\n",
    "\n",
    "\n",
    "def fit_lognorm(dados):\n",
    "    return stats.lognorm.fit(dados, floc=0)\n",
    "def test_lognorm(dados):\n",
    "    shape, loc, scale = fit_lognorm(dados)\n",
    "    statistic, p_value = stats.kstest(dados, 'lognorm', args=(shape, loc, scale))\n",
    "    return p_value\n"
   ]
  },
  {
   "cell_type": "code",
   "execution_count": 7,
   "metadata": {},
   "outputs": [],
   "source": [
    "def fit_powerlaw(dados, discreto=False,xmin=None):\n",
    "    dados = [item for item in dados if item>0]\n",
    "    if pd.isnull(xmin):\n",
    "        xmin = min(dados)\n",
    "        # print('xmin min dados',xmin)\n",
    "    fit = powerlaw.Fit(dados, xmin=xmin, discrete=discreto)\n",
    "    return fit\n",
    "def test_powerlaw(dados, discreto=False,xmin=None):\n",
    "    fit = fit_powerlaw(dados, discreto, xmin)\n",
    "    empirical_cdf = fit.cdf()\n",
    "    theoretical_cdf = fit.power_law.cdf()\n",
    "    ks_stat, p_value = stats.ks_2samp(empirical_cdf[1], theoretical_cdf)\n",
    "    return p_value\n",
    "\n",
    "\n",
    "\n",
    "\n",
    "def fit_powerlaw_fitxmin(dados, discreto=False):\n",
    "    dados = [item for item in dados if item>0]\n",
    "    dados = sorted(dados)\n",
    "    parameter_range = {'xmin': [None, dados[len(dados)//5] ]}\n",
    "    fit = powerlaw.Fit(dados,discrete=discreto, parameter_range=parameter_range)\n",
    "    return fit\n",
    "\n",
    "def test_powerlaw_fitxmin(dados, discreto=False):\n",
    "    fit = fit_powerlaw_fitxmin(dados, discreto)\n",
    "    empirical_cdf = fit.cdf()\n",
    "    theoretical_cdf = fit.power_law.cdf()\n",
    "    ks_stat, p_value = stats.ks_2samp(empirical_cdf[1], theoretical_cdf)\n",
    "    return p_value"
   ]
  },
  {
   "cell_type": "code",
   "execution_count": 8,
   "metadata": {},
   "outputs": [],
   "source": [
    "def plot_powerlaw(dados, discreto=False, xmin=None):\n",
    "    fit = fit_powerlaw(dados, discreto, xmin)\n",
    "    fig2 = fit.plot_pdf(color='b', linewidth=2)\n",
    "    fig2 = fit.plot_cdf(color='r', linewidth=2)\n",
    "    fig2 = fit.plot_ccdf(color='g', linewidth=2)\n",
    "    fit.power_law.plot_pdf(color='b', linestyle='--', ax=fig2)\n",
    "    fit.power_law.plot_cdf(color='r', linestyle='--', ax=fig2)\n",
    "    fit.power_law.plot_ccdf(color='g', linestyle='--', ax=fig2)\n",
    "    plt.title(f'xmin = {fit.xmin}, alpha = {fit.alpha}')\n",
    "    plt.show()"
   ]
  },
  {
   "cell_type": "code",
   "execution_count": 9,
   "metadata": {},
   "outputs": [],
   "source": [
    "np.random.seed(10)\n",
    "W_U30 = uniform_W(1, 30)\n",
    "\n",
    "W_U100 = uniform_W(1, 100)\n",
    "W_ER100 = erdos_reny_W(1,100,0.7)\n",
    "\n",
    "W_U1000 = uniform_W(1, 1000)\n",
    "W_ER1000 = erdos_reny_W(1,1000,0.7)"
   ]
  },
  {
   "cell_type": "code",
   "execution_count": 10,
   "metadata": {},
   "outputs": [],
   "source": [
    "def run_hk(W, alpha, n_simulations=300):\n",
    "    times_death = []\n",
    "    num_spikes = []\n",
    "    for i in range(n_simulations):\n",
    "        print(i, pd.Timestamp.now())\n",
    "        # spk_t, spk_id, phis, times, Vs, trun, possible_spike_t = run_simulation(W, False, np.inf, alpha)\n",
    "        nspikes, trun = run_simulation(W, False, np.inf, alpha)\n",
    "        times_death.append(trun)\n",
    "        num_spikes.append(nspikes)\n",
    "    return times_death, num_spikes\n",
    "\n",
    "def find_alpha_critical_hk(W, string_W, alpha0, step, max_tests=20, plot=True):\n",
    "    alpha = alpha0\n",
    "    results = {}\n",
    "    for i in range(max_tests):\n",
    "        durations,sizes = run_hk(W, alpha, 300)\n",
    "        results[alpha] = [durations,sizes]\n",
    "        if plot:\n",
    "            plt.hist(np.array(durations)/np.mean(durations), bins=[item/5 for item in range(15*10)], density=True)\n",
    "            plt.title(f'Hawkes | {string_W} | alpha={np.round(alpha,2)} | pvalue={np.round(test_exp(durations),4)}')\n",
    "            plt.plot([item/10 for item in range(151)], np.exp(-np.array([item/10 for item in range(151)])))\n",
    "            plt.show()\n",
    "        if test_exp(durations) > 0.05:\n",
    "            print('critical alpha')\n",
    "            print(alpha)\n",
    "            return alpha, durations, sizes, results\n",
    "        alpha = np.round(alpha-step,2)\n",
    "    print('No critical alpha found')\n",
    "    return alpha, durations, sizes, results\n",
    "\n",
    "def find_alpha_critical_hk_append(results, W, string_W, alpha0, step, max_tests=20, plot=True):\n",
    "    alpha = alpha0\n",
    "    # results = {}\n",
    "    for i in range(max_tests):\n",
    "        print()\n",
    "        print(f'alpha = {alpha}')\n",
    "        if alpha in results.keys():\n",
    "            print(alpha, 'in dicio')\n",
    "            alpha = np.round(alpha-step,2)\n",
    "            continue\n",
    "        durations,sizes = run_hk(W, alpha, 300)\n",
    "        results[alpha] = [durations,sizes]\n",
    "        if plot:\n",
    "            plt.hist(np.array(durations)/np.mean(durations), bins=[item/5 for item in range(15*10)], density=True)\n",
    "            plt.title(f'Hawkes | {string_W} | alpha={np.round(alpha,2)} | pvalue={np.round(test_exp(durations),4)}')\n",
    "            plt.plot([item/10 for item in range(151)], np.exp(-np.array([item/10 for item in range(151)])))\n",
    "            plt.show()\n",
    "        if test_exp(durations) > 0.05:\n",
    "            print('critical alpha')\n",
    "            print(alpha)\n",
    "            return alpha, durations, sizes, results\n",
    "        alpha = np.round(alpha-step,2)\n",
    "    print('No critical alpha found')\n",
    "    results = dict(sorted(results.items(),reverse=True))\n",
    "    return alpha, durations, sizes, results\n",
    "\n",
    "\n",
    "        "
   ]
  },
  {
   "cell_type": "code",
   "execution_count": 11,
   "metadata": {},
   "outputs": [],
   "source": [
    "[times_death, num_spikes] = read_pkl('alpha_critical\\\\HK_U1000_alpha43')"
   ]
  },
  {
   "cell_type": "code",
   "execution_count": 14,
   "metadata": {},
   "outputs": [
    {
     "data": {
      "text/plain": [
       "66"
      ]
     },
     "execution_count": 14,
     "metadata": {},
     "output_type": "execute_result"
    }
   ],
   "source": [
    "len(times_death)"
   ]
  },
  {
   "cell_type": "code",
   "execution_count": null,
   "metadata": {},
   "outputs": [],
   "source": [
    "# times_death = []\n",
    "# num_spikes = []\n",
    "for i in range(300-len(times_death)):\n",
    "    print(i, pd.Timestamp.now())\n",
    "    nspikes, trun = run_simulation(W_U1000, False, np.inf, 43)\n",
    "    times_death.append(trun)\n",
    "    num_spikes.append(nspikes)"
   ]
  },
  {
   "cell_type": "code",
   "execution_count": 15,
   "metadata": {},
   "outputs": [],
   "source": [
    "write_pkl([times_death, num_spikes],'alpha_critical\\\\HK_U1000_alpha43')"
   ]
  }
 ],
 "metadata": {
  "kernelspec": {
   "display_name": "Python 3",
   "language": "python",
   "name": "python3"
  },
  "language_info": {
   "codemirror_mode": {
    "name": "ipython",
    "version": 3
   },
   "file_extension": ".py",
   "mimetype": "text/x-python",
   "name": "python",
   "nbconvert_exporter": "python",
   "pygments_lexer": "ipython3",
   "version": "3.9.13"
  }
 },
 "nbformat": 4,
 "nbformat_minor": 2
}
